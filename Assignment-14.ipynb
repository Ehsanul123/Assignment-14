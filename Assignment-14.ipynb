{
 "cells": [
  {
   "cell_type": "code",
   "execution_count": null,
   "id": "b7192270",
   "metadata": {},
   "outputs": [],
   "source": [
    "#1:\n",
    "RGBA:The RGB color model is extended in this specification to include “alpha” to allow specification of the opacity of a color."
   ]
  },
  {
   "cell_type": "code",
   "execution_count": 15,
   "id": "55644ad6",
   "metadata": {},
   "outputs": [
    {
     "name": "stdout",
     "output_type": "stream",
     "text": [
      "8021\n"
     ]
    }
   ],
   "source": [
    "#2:\n",
    "from PIL import Image\n",
    "import collections\n",
    "imgobj = Image.open('ineu.jpg')\n",
    "pixels = imgobj.convert('RGBA')\n",
    "data = imgobj.getdata()\n",
    "counts = collections.Counter(data)\n",
    "print(counts[(255, 255, 255)])"
   ]
  },
  {
   "cell_type": "code",
   "execution_count": null,
   "id": "57883394",
   "metadata": {},
   "outputs": [],
   "source": [
    "#3:\n",
    "The box.tuple submodule provides read-only access for the tuple userdata type.\n",
    "It allows, for a single tuple, selective retrieval of the field contents, retrieval of information about size, \n",
    "iteration over all the fields, and conversion to a Lua table.\n",
    "box.tuple.new()   ----  > Create a tuple"
   ]
  },
  {
   "cell_type": "code",
   "execution_count": 23,
   "id": "a0ea9384",
   "metadata": {},
   "outputs": [
    {
     "name": "stdout",
     "output_type": "stream",
     "text": [
      "The height of the image is:  130\n",
      "The width of the image is:  130\n"
     ]
    }
   ],
   "source": [
    "#4:\n",
    "\n",
    "from PIL import Image\n",
    "\n",
    "filepath = \"ineu.jpg\"\n",
    "img = Image.open(filepath)\n",
    "\n",
    "\n",
    "width = img.width\n",
    "height = img.height\n",
    "\n",
    "\n",
    "print(\"The height of the image is: \", height)\n",
    "print(\"The width of the image is: \", width)\n"
   ]
  },
  {
   "cell_type": "code",
   "execution_count": null,
   "id": "a059bd7b",
   "metadata": {},
   "outputs": [],
   "source": [
    "#5:by using img.crop method ,we can change the image file size.\n",
    "cropped_img = img.crop((100, 200, 300, 1000))\n"
   ]
  },
  {
   "cell_type": "code",
   "execution_count": null,
   "id": "8786c251",
   "metadata": {},
   "outputs": [],
   "source": [
    "#6:by using img.save we can save an image\n",
    "img.save(r'dog.1.png')."
   ]
  },
  {
   "cell_type": "code",
   "execution_count": 2,
   "id": "1c2c592b",
   "metadata": {},
   "outputs": [],
   "source": [
    "#7:\n",
    "#The 'ImageDraw' module provides simple 2D graphics support for Image Object.\n",
    "import sys\n",
    "from PIL import Image, ImageDraw\n",
    "\n",
    "im = Image.open(\"ineu.jpg\")\n",
    "\n",
    "draw = ImageDraw.Draw(im)\n",
    "draw.line((0, 0) + im.size, fill=128)\n",
    "draw.line((0, im.size[1], im.size[0], 0), fill=128)\n",
    "\n",
    "im.show()"
   ]
  },
  {
   "cell_type": "code",
   "execution_count": null,
   "id": "31e173a0",
   "metadata": {},
   "outputs": [],
   "source": [
    "#8:\n",
    "Drawing objects are created exclusively by the window method begindrawing()."
   ]
  }
 ],
 "metadata": {
  "kernelspec": {
   "display_name": "Python 3 (ipykernel)",
   "language": "python",
   "name": "python3"
  },
  "language_info": {
   "codemirror_mode": {
    "name": "ipython",
    "version": 3
   },
   "file_extension": ".py",
   "mimetype": "text/x-python",
   "name": "python",
   "nbconvert_exporter": "python",
   "pygments_lexer": "ipython3",
   "version": "3.9.7"
  }
 },
 "nbformat": 4,
 "nbformat_minor": 5
}
